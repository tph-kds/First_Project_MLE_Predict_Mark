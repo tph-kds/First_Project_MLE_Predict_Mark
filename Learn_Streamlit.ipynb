{
  "cells": [
    {
      "cell_type": "markdown",
      "metadata": {
        "id": "NKH_hPJeN-9v"
      },
      "source": [
        "##Preparing dependences"
      ]
    },
    {
      "cell_type": "code",
      "execution_count": 62,
      "metadata": {
        "id": "tsnz4IpROSZH"
      },
      "outputs": [],
      "source": [
        "import numpy as np\n",
        "import pandas as pd\n",
        "import matplotlib.pyplot as plt\n"
      ]
    },
    {
      "cell_type": "code",
      "execution_count": 63,
      "metadata": {
        "colab": {
          "base_uri": "https://localhost:8080/",
          "height": 990
        },
        "id": "7aAv_-f2OcEA",
        "outputId": "acc9f9f9-bf2b-4dc7-e883-438712cb1f4f"
      },
      "outputs": [
        {
          "data": {
            "text/html": [
              "\n",
              "  <div id=\"df-6c248ac2-6e77-4d69-b301-fb5edb5fa8c6\">\n",
              "    <div class=\"colab-df-container\">\n",
              "      <div>\n",
              "<style scoped>\n",
              "    .dataframe tbody tr th:only-of-type {\n",
              "        vertical-align: middle;\n",
              "    }\n",
              "\n",
              "    .dataframe tbody tr th {\n",
              "        vertical-align: top;\n",
              "    }\n",
              "\n",
              "    .dataframe thead th {\n",
              "        text-align: right;\n",
              "    }\n",
              "</style>\n",
              "<table border=\"1\" class=\"dataframe\">\n",
              "  <thead>\n",
              "    <tr style=\"text-align: right;\">\n",
              "      <th></th>\n",
              "      <th>Id</th>\n",
              "      <th>Full_Names</th>\n",
              "      <th>claass</th>\n",
              "      <th>mean_subject</th>\n",
              "    </tr>\n",
              "  </thead>\n",
              "  <tbody>\n",
              "    <tr>\n",
              "      <th>0</th>\n",
              "      <td>1</td>\n",
              "      <td>Thai Phuc An</td>\n",
              "      <td>45078</td>\n",
              "      <td>3.9</td>\n",
              "    </tr>\n",
              "    <tr>\n",
              "      <th>1</th>\n",
              "      <td>2</td>\n",
              "      <td>Nguyen Thanh Sang</td>\n",
              "      <td>45078</td>\n",
              "      <td>4.4</td>\n",
              "    </tr>\n",
              "    <tr>\n",
              "      <th>2</th>\n",
              "      <td>3</td>\n",
              "      <td>Pham Chi Thanh</td>\n",
              "      <td>45078</td>\n",
              "      <td>3.3</td>\n",
              "    </tr>\n",
              "    <tr>\n",
              "      <th>3</th>\n",
              "      <td>4</td>\n",
              "      <td>Nguyen Gia Bao</td>\n",
              "      <td>45079</td>\n",
              "      <td>3.9</td>\n",
              "    </tr>\n",
              "    <tr>\n",
              "      <th>4</th>\n",
              "      <td>5</td>\n",
              "      <td>Luong Nguyen Quynh Phat</td>\n",
              "      <td>45079</td>\n",
              "      <td>4.7</td>\n",
              "    </tr>\n",
              "    <tr>\n",
              "      <th>5</th>\n",
              "      <td>6</td>\n",
              "      <td>Le Minh Sang</td>\n",
              "      <td>45079</td>\n",
              "      <td>2.7</td>\n",
              "    </tr>\n",
              "    <tr>\n",
              "      <th>6</th>\n",
              "      <td>7</td>\n",
              "      <td>Nguyen Hoang Phuc Thinh</td>\n",
              "      <td>45079</td>\n",
              "      <td>3.9</td>\n",
              "    </tr>\n",
              "    <tr>\n",
              "      <th>7</th>\n",
              "      <td>8</td>\n",
              "      <td>Hoan Ngoc Nhu Y</td>\n",
              "      <td>45079</td>\n",
              "      <td>3.6</td>\n",
              "    </tr>\n",
              "    <tr>\n",
              "      <th>8</th>\n",
              "      <td>9</td>\n",
              "      <td>Tran Ha Tuan Kiet</td>\n",
              "      <td>45086</td>\n",
              "      <td>4.7</td>\n",
              "    </tr>\n",
              "    <tr>\n",
              "      <th>9</th>\n",
              "      <td>10</td>\n",
              "      <td>Bui Nhan Nghia</td>\n",
              "      <td>45086</td>\n",
              "      <td>4.7</td>\n",
              "    </tr>\n",
              "    <tr>\n",
              "      <th>10</th>\n",
              "      <td>11</td>\n",
              "      <td>Bui Ngoc Thanh Ha</td>\n",
              "      <td>45087</td>\n",
              "      <td>4.6</td>\n",
              "    </tr>\n",
              "    <tr>\n",
              "      <th>11</th>\n",
              "      <td>12</td>\n",
              "      <td>Võ Cao Thang</td>\n",
              "      <td>45087</td>\n",
              "      <td>4.9</td>\n",
              "    </tr>\n",
              "    <tr>\n",
              "      <th>12</th>\n",
              "      <td>13</td>\n",
              "      <td>Ngo Minh Tu</td>\n",
              "      <td>45087</td>\n",
              "      <td>3.7</td>\n",
              "    </tr>\n",
              "    <tr>\n",
              "      <th>13</th>\n",
              "      <td>14</td>\n",
              "      <td>Nguyen Thi Tram Anh</td>\n",
              "      <td>45149</td>\n",
              "      <td>4.7</td>\n",
              "    </tr>\n",
              "    <tr>\n",
              "      <th>14</th>\n",
              "      <td>15</td>\n",
              "      <td>Vo Van Chanh</td>\n",
              "      <td>45149</td>\n",
              "      <td>4.8</td>\n",
              "    </tr>\n",
              "    <tr>\n",
              "      <th>15</th>\n",
              "      <td>16</td>\n",
              "      <td>Pham Le Khuc Duy</td>\n",
              "      <td>45149</td>\n",
              "      <td>3.8</td>\n",
              "    </tr>\n",
              "    <tr>\n",
              "      <th>16</th>\n",
              "      <td>17</td>\n",
              "      <td>Mai Rang Dong</td>\n",
              "      <td>45149</td>\n",
              "      <td>3.7</td>\n",
              "    </tr>\n",
              "    <tr>\n",
              "      <th>17</th>\n",
              "      <td>18</td>\n",
              "      <td>Huynh Gia Hao</td>\n",
              "      <td>45149</td>\n",
              "      <td>3.3</td>\n",
              "    </tr>\n",
              "    <tr>\n",
              "      <th>18</th>\n",
              "      <td>19</td>\n",
              "      <td>Nguyen An Khang</td>\n",
              "      <td>45149</td>\n",
              "      <td>3.7</td>\n",
              "    </tr>\n",
              "    <tr>\n",
              "      <th>19</th>\n",
              "      <td>20</td>\n",
              "      <td>Hao Phuong Khoi</td>\n",
              "      <td>45149</td>\n",
              "      <td>3.8</td>\n",
              "    </tr>\n",
              "    <tr>\n",
              "      <th>20</th>\n",
              "      <td>21</td>\n",
              "      <td>Le Thien Phat</td>\n",
              "      <td>45149</td>\n",
              "      <td>4.6</td>\n",
              "    </tr>\n",
              "    <tr>\n",
              "      <th>21</th>\n",
              "      <td>22</td>\n",
              "      <td>Phung Thanh Vinh</td>\n",
              "      <td>45149</td>\n",
              "      <td>4.9</td>\n",
              "    </tr>\n",
              "    <tr>\n",
              "      <th>22</th>\n",
              "      <td>23</td>\n",
              "      <td>Phan Phan</td>\n",
              "      <td>45149</td>\n",
              "      <td>3.6</td>\n",
              "    </tr>\n",
              "    <tr>\n",
              "      <th>23</th>\n",
              "      <td>24</td>\n",
              "      <td>Tu Anh Dat</td>\n",
              "      <td>45149</td>\n",
              "      <td>4.2</td>\n",
              "    </tr>\n",
              "    <tr>\n",
              "      <th>24</th>\n",
              "      <td>25</td>\n",
              "      <td>Phan Phuc Khao</td>\n",
              "      <td>45149</td>\n",
              "      <td>1.5</td>\n",
              "    </tr>\n",
              "    <tr>\n",
              "      <th>25</th>\n",
              "      <td>26</td>\n",
              "      <td>Tran An Nhien</td>\n",
              "      <td>45149</td>\n",
              "      <td>4.5</td>\n",
              "    </tr>\n",
              "    <tr>\n",
              "      <th>26</th>\n",
              "      <td>27</td>\n",
              "      <td>Tran Canh</td>\n",
              "      <td>45149</td>\n",
              "      <td>2.5</td>\n",
              "    </tr>\n",
              "    <tr>\n",
              "      <th>27</th>\n",
              "      <td>28</td>\n",
              "      <td>Tran Tu Tai</td>\n",
              "      <td>45149</td>\n",
              "      <td>3.5</td>\n",
              "    </tr>\n",
              "    <tr>\n",
              "      <th>28</th>\n",
              "      <td>29</td>\n",
              "      <td>Nguyen Le</td>\n",
              "      <td>45149</td>\n",
              "      <td>3.9</td>\n",
              "    </tr>\n",
              "    <tr>\n",
              "      <th>29</th>\n",
              "      <td>30</td>\n",
              "      <td>Anh Hung</td>\n",
              "      <td>45149</td>\n",
              "      <td>1.9</td>\n",
              "    </tr>\n",
              "  </tbody>\n",
              "</table>\n",
              "</div>\n",
              "      <button class=\"colab-df-convert\" onclick=\"convertToInteractive('df-6c248ac2-6e77-4d69-b301-fb5edb5fa8c6')\"\n",
              "              title=\"Convert this dataframe to an interactive table.\"\n",
              "              style=\"display:none;\">\n",
              "        \n",
              "  <svg xmlns=\"http://www.w3.org/2000/svg\" height=\"24px\"viewBox=\"0 0 24 24\"\n",
              "       width=\"24px\">\n",
              "    <path d=\"M0 0h24v24H0V0z\" fill=\"none\"/>\n",
              "    <path d=\"M18.56 5.44l.94 2.06.94-2.06 2.06-.94-2.06-.94-.94-2.06-.94 2.06-2.06.94zm-11 1L8.5 8.5l.94-2.06 2.06-.94-2.06-.94L8.5 2.5l-.94 2.06-2.06.94zm10 10l.94 2.06.94-2.06 2.06-.94-2.06-.94-.94-2.06-.94 2.06-2.06.94z\"/><path d=\"M17.41 7.96l-1.37-1.37c-.4-.4-.92-.59-1.43-.59-.52 0-1.04.2-1.43.59L10.3 9.45l-7.72 7.72c-.78.78-.78 2.05 0 2.83L4 21.41c.39.39.9.59 1.41.59.51 0 1.02-.2 1.41-.59l7.78-7.78 2.81-2.81c.8-.78.8-2.07 0-2.86zM5.41 20L4 18.59l7.72-7.72 1.47 1.35L5.41 20z\"/>\n",
              "  </svg>\n",
              "      </button>\n",
              "      \n",
              "  <style>\n",
              "    .colab-df-container {\n",
              "      display:flex;\n",
              "      flex-wrap:wrap;\n",
              "      gap: 12px;\n",
              "    }\n",
              "\n",
              "    .colab-df-convert {\n",
              "      background-color: #E8F0FE;\n",
              "      border: none;\n",
              "      border-radius: 50%;\n",
              "      cursor: pointer;\n",
              "      display: none;\n",
              "      fill: #1967D2;\n",
              "      height: 32px;\n",
              "      padding: 0 0 0 0;\n",
              "      width: 32px;\n",
              "    }\n",
              "\n",
              "    .colab-df-convert:hover {\n",
              "      background-color: #E2EBFA;\n",
              "      box-shadow: 0px 1px 2px rgba(60, 64, 67, 0.3), 0px 1px 3px 1px rgba(60, 64, 67, 0.15);\n",
              "      fill: #174EA6;\n",
              "    }\n",
              "\n",
              "    [theme=dark] .colab-df-convert {\n",
              "      background-color: #3B4455;\n",
              "      fill: #D2E3FC;\n",
              "    }\n",
              "\n",
              "    [theme=dark] .colab-df-convert:hover {\n",
              "      background-color: #434B5C;\n",
              "      box-shadow: 0px 1px 3px 1px rgba(0, 0, 0, 0.15);\n",
              "      filter: drop-shadow(0px 1px 2px rgba(0, 0, 0, 0.3));\n",
              "      fill: #FFFFFF;\n",
              "    }\n",
              "  </style>\n",
              "\n",
              "      <script>\n",
              "        const buttonEl =\n",
              "          document.querySelector('#df-6c248ac2-6e77-4d69-b301-fb5edb5fa8c6 button.colab-df-convert');\n",
              "        buttonEl.style.display =\n",
              "          google.colab.kernel.accessAllowed ? 'block' : 'none';\n",
              "\n",
              "        async function convertToInteractive(key) {\n",
              "          const element = document.querySelector('#df-6c248ac2-6e77-4d69-b301-fb5edb5fa8c6');\n",
              "          const dataTable =\n",
              "            await google.colab.kernel.invokeFunction('convertToInteractive',\n",
              "                                                     [key], {});\n",
              "          if (!dataTable) return;\n",
              "\n",
              "          const docLinkHtml = 'Like what you see? Visit the ' +\n",
              "            '<a target=\"_blank\" href=https://colab.research.google.com/notebooks/data_table.ipynb>data table notebook</a>'\n",
              "            + ' to learn more about interactive tables.';\n",
              "          element.innerHTML = '';\n",
              "          dataTable['output_type'] = 'display_data';\n",
              "          await google.colab.output.renderOutput(dataTable, element);\n",
              "          const docLink = document.createElement('div');\n",
              "          docLink.innerHTML = docLinkHtml;\n",
              "          element.appendChild(docLink);\n",
              "        }\n",
              "      </script>\n",
              "    </div>\n",
              "  </div>\n",
              "  "
            ],
            "text/plain": [
              "    Id               Full_Names  claass  mean_subject\n",
              "0    1             Thai Phuc An   45078           3.9\n",
              "1    2        Nguyen Thanh Sang   45078           4.4\n",
              "2    3           Pham Chi Thanh   45078           3.3\n",
              "3    4           Nguyen Gia Bao   45079           3.9\n",
              "4    5  Luong Nguyen Quynh Phat   45079           4.7\n",
              "5    6             Le Minh Sang   45079           2.7\n",
              "6    7  Nguyen Hoang Phuc Thinh   45079           3.9\n",
              "7    8          Hoan Ngoc Nhu Y   45079           3.6\n",
              "8    9        Tran Ha Tuan Kiet   45086           4.7\n",
              "9   10           Bui Nhan Nghia   45086           4.7\n",
              "10  11        Bui Ngoc Thanh Ha   45087           4.6\n",
              "11  12             Võ Cao Thang   45087           4.9\n",
              "12  13              Ngo Minh Tu   45087           3.7\n",
              "13  14      Nguyen Thi Tram Anh   45149           4.7\n",
              "14  15             Vo Van Chanh   45149           4.8\n",
              "15  16         Pham Le Khuc Duy   45149           3.8\n",
              "16  17            Mai Rang Dong   45149           3.7\n",
              "17  18            Huynh Gia Hao   45149           3.3\n",
              "18  19          Nguyen An Khang   45149           3.7\n",
              "19  20          Hao Phuong Khoi   45149           3.8\n",
              "20  21            Le Thien Phat   45149           4.6\n",
              "21  22         Phung Thanh Vinh   45149           4.9\n",
              "22  23                Phan Phan   45149           3.6\n",
              "23  24               Tu Anh Dat   45149           4.2\n",
              "24  25           Phan Phuc Khao   45149           1.5\n",
              "25  26            Tran An Nhien   45149           4.5\n",
              "26  27                Tran Canh   45149           2.5\n",
              "27  28              Tran Tu Tai   45149           3.5\n",
              "28  29                Nguyen Le   45149           3.9\n",
              "29  30                 Anh Hung   45149           1.9"
            ]
          },
          "execution_count": 63,
          "metadata": {},
          "output_type": "execute_result"
        }
      ],
      "source": [
        "df= pd.read_csv(\"data.csv\" ,encoding='unicode_escape')\n",
        "df"
      ]
    },
    {
      "cell_type": "code",
      "execution_count": null,
      "metadata": {
        "colab": {
          "base_uri": "https://localhost:8080/"
        },
        "id": "5yi8e09COi4O",
        "outputId": "85976678-c44d-4679-d51e-257240313a0e"
      },
      "outputs": [
        {
          "name": "stdout",
          "output_type": "stream",
          "text": [
            "<class 'pandas.core.frame.DataFrame'>\n",
            "RangeIndex: 30 entries, 0 to 29\n",
            "Data columns (total 4 columns):\n",
            " #   Column        Non-Null Count  Dtype  \n",
            "---  ------        --------------  -----  \n",
            " 0   Id            30 non-null     int64  \n",
            " 1   Full_Names    30 non-null     object \n",
            " 2   claass        30 non-null     int64  \n",
            " 3   mean_subject  30 non-null     float64\n",
            "dtypes: float64(1), int64(2), object(1)\n",
            "memory usage: 1.1+ KB\n"
          ]
        }
      ],
      "source": [
        "df.info()"
      ]
    },
    {
      "cell_type": "code",
      "execution_count": null,
      "metadata": {
        "colab": {
          "base_uri": "https://localhost:8080/"
        },
        "id": "AyV5DqlxP0j3",
        "outputId": "33e8e7e8-3cff-46ac-ad33-dbdccf0ab3bd"
      },
      "outputs": [
        {
          "name": "stdout",
          "output_type": "stream",
          "text": [
            "23 7\n"
          ]
        }
      ],
      "source": [
        "df[\"cluster\"] = (df[\"mean_subject\"] <= float(3.5)).astype(int)\n",
        "# print(df[df[\"cluster\"] == 0] , df[df[\"cluster\"] == 1]  )\n",
        "print(sum(df[\"cluster\"] == 0) , sum(df[\"cluster\"] == 1)  )\n"
      ]
    },
    {
      "cell_type": "code",
      "execution_count": null,
      "metadata": {
        "colab": {
          "base_uri": "https://localhost:8080/",
          "height": 206
        },
        "id": "NIuQyfDBQ6Q3",
        "outputId": "9619b8c5-7080-48f1-9118-a4819035bb0f"
      },
      "outputs": [
        {
          "data": {
            "text/html": [
              "\n",
              "  <div id=\"df-3983ad35-8f15-49c9-b6f6-d0291e9be18d\">\n",
              "    <div class=\"colab-df-container\">\n",
              "      <div>\n",
              "<style scoped>\n",
              "    .dataframe tbody tr th:only-of-type {\n",
              "        vertical-align: middle;\n",
              "    }\n",
              "\n",
              "    .dataframe tbody tr th {\n",
              "        vertical-align: top;\n",
              "    }\n",
              "\n",
              "    .dataframe thead th {\n",
              "        text-align: right;\n",
              "    }\n",
              "</style>\n",
              "<table border=\"1\" class=\"dataframe\">\n",
              "  <thead>\n",
              "    <tr style=\"text-align: right;\">\n",
              "      <th></th>\n",
              "      <th>Id</th>\n",
              "      <th>Full_Names</th>\n",
              "      <th>claass</th>\n",
              "      <th>mean_subject</th>\n",
              "      <th>cluster</th>\n",
              "    </tr>\n",
              "  </thead>\n",
              "  <tbody>\n",
              "    <tr>\n",
              "      <th>0</th>\n",
              "      <td>1</td>\n",
              "      <td>Thai Phuc An</td>\n",
              "      <td>45078</td>\n",
              "      <td>3.9</td>\n",
              "      <td>0</td>\n",
              "    </tr>\n",
              "    <tr>\n",
              "      <th>1</th>\n",
              "      <td>2</td>\n",
              "      <td>Nguyen Thanh Sang</td>\n",
              "      <td>45078</td>\n",
              "      <td>4.4</td>\n",
              "      <td>0</td>\n",
              "    </tr>\n",
              "    <tr>\n",
              "      <th>2</th>\n",
              "      <td>3</td>\n",
              "      <td>Pham Chi Thanh</td>\n",
              "      <td>45078</td>\n",
              "      <td>3.3</td>\n",
              "      <td>1</td>\n",
              "    </tr>\n",
              "    <tr>\n",
              "      <th>3</th>\n",
              "      <td>4</td>\n",
              "      <td>Nguyen Gia Bao</td>\n",
              "      <td>45079</td>\n",
              "      <td>3.9</td>\n",
              "      <td>0</td>\n",
              "    </tr>\n",
              "    <tr>\n",
              "      <th>4</th>\n",
              "      <td>5</td>\n",
              "      <td>Luong Nguyen Quynh Phat</td>\n",
              "      <td>45079</td>\n",
              "      <td>4.7</td>\n",
              "      <td>0</td>\n",
              "    </tr>\n",
              "  </tbody>\n",
              "</table>\n",
              "</div>\n",
              "      <button class=\"colab-df-convert\" onclick=\"convertToInteractive('df-3983ad35-8f15-49c9-b6f6-d0291e9be18d')\"\n",
              "              title=\"Convert this dataframe to an interactive table.\"\n",
              "              style=\"display:none;\">\n",
              "        \n",
              "  <svg xmlns=\"http://www.w3.org/2000/svg\" height=\"24px\"viewBox=\"0 0 24 24\"\n",
              "       width=\"24px\">\n",
              "    <path d=\"M0 0h24v24H0V0z\" fill=\"none\"/>\n",
              "    <path d=\"M18.56 5.44l.94 2.06.94-2.06 2.06-.94-2.06-.94-.94-2.06-.94 2.06-2.06.94zm-11 1L8.5 8.5l.94-2.06 2.06-.94-2.06-.94L8.5 2.5l-.94 2.06-2.06.94zm10 10l.94 2.06.94-2.06 2.06-.94-2.06-.94-.94-2.06-.94 2.06-2.06.94z\"/><path d=\"M17.41 7.96l-1.37-1.37c-.4-.4-.92-.59-1.43-.59-.52 0-1.04.2-1.43.59L10.3 9.45l-7.72 7.72c-.78.78-.78 2.05 0 2.83L4 21.41c.39.39.9.59 1.41.59.51 0 1.02-.2 1.41-.59l7.78-7.78 2.81-2.81c.8-.78.8-2.07 0-2.86zM5.41 20L4 18.59l7.72-7.72 1.47 1.35L5.41 20z\"/>\n",
              "  </svg>\n",
              "      </button>\n",
              "      \n",
              "  <style>\n",
              "    .colab-df-container {\n",
              "      display:flex;\n",
              "      flex-wrap:wrap;\n",
              "      gap: 12px;\n",
              "    }\n",
              "\n",
              "    .colab-df-convert {\n",
              "      background-color: #E8F0FE;\n",
              "      border: none;\n",
              "      border-radius: 50%;\n",
              "      cursor: pointer;\n",
              "      display: none;\n",
              "      fill: #1967D2;\n",
              "      height: 32px;\n",
              "      padding: 0 0 0 0;\n",
              "      width: 32px;\n",
              "    }\n",
              "\n",
              "    .colab-df-convert:hover {\n",
              "      background-color: #E2EBFA;\n",
              "      box-shadow: 0px 1px 2px rgba(60, 64, 67, 0.3), 0px 1px 3px 1px rgba(60, 64, 67, 0.15);\n",
              "      fill: #174EA6;\n",
              "    }\n",
              "\n",
              "    [theme=dark] .colab-df-convert {\n",
              "      background-color: #3B4455;\n",
              "      fill: #D2E3FC;\n",
              "    }\n",
              "\n",
              "    [theme=dark] .colab-df-convert:hover {\n",
              "      background-color: #434B5C;\n",
              "      box-shadow: 0px 1px 3px 1px rgba(0, 0, 0, 0.15);\n",
              "      filter: drop-shadow(0px 1px 2px rgba(0, 0, 0, 0.3));\n",
              "      fill: #FFFFFF;\n",
              "    }\n",
              "  </style>\n",
              "\n",
              "      <script>\n",
              "        const buttonEl =\n",
              "          document.querySelector('#df-3983ad35-8f15-49c9-b6f6-d0291e9be18d button.colab-df-convert');\n",
              "        buttonEl.style.display =\n",
              "          google.colab.kernel.accessAllowed ? 'block' : 'none';\n",
              "\n",
              "        async function convertToInteractive(key) {\n",
              "          const element = document.querySelector('#df-3983ad35-8f15-49c9-b6f6-d0291e9be18d');\n",
              "          const dataTable =\n",
              "            await google.colab.kernel.invokeFunction('convertToInteractive',\n",
              "                                                     [key], {});\n",
              "          if (!dataTable) return;\n",
              "\n",
              "          const docLinkHtml = 'Like what you see? Visit the ' +\n",
              "            '<a target=\"_blank\" href=https://colab.research.google.com/notebooks/data_table.ipynb>data table notebook</a>'\n",
              "            + ' to learn more about interactive tables.';\n",
              "          element.innerHTML = '';\n",
              "          dataTable['output_type'] = 'display_data';\n",
              "          await google.colab.output.renderOutput(dataTable, element);\n",
              "          const docLink = document.createElement('div');\n",
              "          docLink.innerHTML = docLinkHtml;\n",
              "          element.appendChild(docLink);\n",
              "        }\n",
              "      </script>\n",
              "    </div>\n",
              "  </div>\n",
              "  "
            ],
            "text/plain": [
              "   Id               Full_Names  claass  mean_subject  cluster\n",
              "0   1             Thai Phuc An   45078           3.9        0\n",
              "1   2        Nguyen Thanh Sang   45078           4.4        0\n",
              "2   3           Pham Chi Thanh   45078           3.3        1\n",
              "3   4           Nguyen Gia Bao   45079           3.9        0\n",
              "4   5  Luong Nguyen Quynh Phat   45079           4.7        0"
            ]
          },
          "execution_count": 14,
          "metadata": {},
          "output_type": "execute_result"
        }
      ],
      "source": [
        "df.head()"
      ]
    },
    {
      "cell_type": "code",
      "execution_count": null,
      "metadata": {
        "id": "1Cfil8a4RgIe"
      },
      "outputs": [],
      "source": [
        "### Preprocessing data to train "
      ]
    },
    {
      "cell_type": "markdown",
      "metadata": {
        "id": "yms04XieR7ku"
      },
      "source": [
        "## Train / Test  / Valid Dataset"
      ]
    },
    {
      "cell_type": "code",
      "execution_count": null,
      "metadata": {
        "id": "-u80oVE5R_ou"
      },
      "outputs": [],
      "source": [
        "from sklearn.model_selection import train_test_split\n",
        "from sklearn.ensemble import AdaBoostClassifier  , GradientBoostingClassifier\n",
        "from sklearn.svm import SVC\n",
        "from sklearn.metrics import classification_report\n",
        "import pickle"
      ]
    },
    {
      "cell_type": "code",
      "execution_count": null,
      "metadata": {
        "colab": {
          "base_uri": "https://localhost:8080/"
        },
        "id": "H5jyUCZDSr2-",
        "outputId": "b81a233e-71dc-42be-b8f3-9eea2b961f82"
      },
      "outputs": [
        {
          "name": "stdout",
          "output_type": "stream",
          "text": [
            "float64\n"
          ]
        }
      ],
      "source": [
        "X = df.drop([\"cluster\" ] , axis = 1)\n",
        "y = df[\"cluster\"]\n",
        "print(X)\n"
      ]
    },
    {
      "cell_type": "code",
      "execution_count": null,
      "metadata": {
        "colab": {
          "base_uri": "https://localhost:8080/"
        },
        "id": "vc8MI1lLSEXO",
        "outputId": "25e29caf-e3b8-44db-aeaa-8fe98fdb7369"
      },
      "outputs": [
        {
          "name": "stdout",
          "output_type": "stream",
          "text": [
            "(22, 3) (22,) (7, 3) (7,) (1, 3) (1,)\n"
          ]
        }
      ],
      "source": [
        "x_train , x_test , y_train , y_test = train_test_split(X , y ,test_size = 0.25 , random_state = 10 )\n",
        "x_val , x_test , y_val , y_test = train_test_split(x_test , y_test ,test_size = 0.8 , random_state = 10 )\n",
        "\n",
        "print(x_train.shape , y_train.shape , x_test.shape , y_test.shape , x_val.shape , y_val.shape)"
      ]
    },
    {
      "cell_type": "code",
      "execution_count": null,
      "metadata": {
        "colab": {
          "base_uri": "https://localhost:8080/"
        },
        "id": "kKtzuyx2T1k-",
        "outputId": "7ced6775-8e18-4278-f85a-9777246c4528"
      },
      "outputs": [
        {
          "data": {
            "text/plain": [
              "AdaBoostClassifier()"
            ]
          },
          "execution_count": 53,
          "metadata": {},
          "output_type": "execute_result"
        }
      ],
      "source": [
        "g_model = SVC()\n",
        "g_model.fit(x_train ,y_train)\n",
        "r_model = AdaBoostClassifier()\n",
        "r_model.fit(x_train , y_train)"
      ]
    },
    {
      "cell_type": "code",
      "execution_count": null,
      "metadata": {
        "id": "tykf5WDjUkcO"
      },
      "outputs": [],
      "source": []
    },
    {
      "cell_type": "code",
      "execution_count": null,
      "metadata": {
        "id": "26GoVaewUHF2"
      },
      "outputs": [],
      "source": [
        "y_pred = r_model.predict(x_test)"
      ]
    },
    {
      "cell_type": "code",
      "execution_count": null,
      "metadata": {
        "colab": {
          "base_uri": "https://localhost:8080/"
        },
        "id": "g7NAe8IwUKE2",
        "outputId": "fe9fb66d-e9ff-42ee-97f0-96d632f45090"
      },
      "outputs": [
        {
          "name": "stdout",
          "output_type": "stream",
          "text": [
            "              precision    recall  f1-score   support\n",
            "\n",
            "           0       1.00      0.80      0.89         5\n",
            "           1       0.67      1.00      0.80         2\n",
            "\n",
            "    accuracy                           0.86         7\n",
            "   macro avg       0.83      0.90      0.84         7\n",
            "weighted avg       0.90      0.86      0.86         7\n",
            "\n"
          ]
        }
      ],
      "source": [
        "print(classification_report(y_pred , y_test))"
      ]
    },
    {
      "cell_type": "code",
      "execution_count": null,
      "metadata": {
        "id": "nmpM5dsiUZyV"
      },
      "outputs": [],
      "source": [
        "with open(\"model.pkl\" , \"wb\") as f:\n",
        "  pickle.dump(r_model , f)"
      ]
    },
    {
      "cell_type": "code",
      "execution_count": null,
      "metadata": {
        "id": "Gyx8gOL4WbP9"
      },
      "outputs": [],
      "source": [
        "with open(\"model.pkl\" ,\"rb\") as f:\n",
        "  model_load = pickle.load(f)"
      ]
    },
    {
      "cell_type": "code",
      "execution_count": null,
      "metadata": {
        "colab": {
          "base_uri": "https://localhost:8080/"
        },
        "id": "Yn0Qdo0jWgoF",
        "outputId": "1803dc9a-3dd9-4934-b661-dcaa71fe3090"
      },
      "outputs": [
        {
          "data": {
            "text/plain": [
              "array([0])"
            ]
          },
          "execution_count": 60,
          "metadata": {},
          "output_type": "execute_result"
        }
      ],
      "source": [
        "model_load.predict(x_val)"
      ]
    },
    {
      "cell_type": "markdown",
      "metadata": {
        "id": "lzwQKf9vkaz1"
      },
      "source": [
        "## Predict into mean_subject"
      ]
    },
    {
      "cell_type": "code",
      "execution_count": 135,
      "metadata": {
        "id": "ghriQUpfWlrt"
      },
      "outputs": [],
      "source": [
        "df= pd.read_csv(\"data.csv\" ,encoding='unicode_escape')\n",
        "df_test = df.copy()"
      ]
    },
    {
      "cell_type": "code",
      "execution_count": 160,
      "metadata": {
        "colab": {
          "base_uri": "https://localhost:8080/"
        },
        "id": "t2tG4MHbkjXF",
        "outputId": "c527d6be-b7f6-4af0-dc54-b1b9fcc70908"
      },
      "outputs": [
        {
          "data": {
            "text/plain": [
              "0     3.9\n",
              "1     4.4\n",
              "2     3.3\n",
              "3     3.9\n",
              "4     4.7\n",
              "5     2.7\n",
              "6     3.9\n",
              "7     3.6\n",
              "8     4.7\n",
              "9     4.7\n",
              "10    4.6\n",
              "11    4.9\n",
              "12    3.7\n",
              "13    4.7\n",
              "14    4.8\n",
              "15    3.8\n",
              "16    3.7\n",
              "17    3.3\n",
              "18    3.7\n",
              "19    3.8\n",
              "20    4.6\n",
              "21    4.9\n",
              "22    3.6\n",
              "23    4.2\n",
              "24    1.5\n",
              "25    4.5\n",
              "26    2.5\n",
              "27    3.5\n",
              "28    3.9\n",
              "29    1.9\n",
              "Name: mean_subject, dtype: float64"
            ]
          },
          "execution_count": 160,
          "metadata": {},
          "output_type": "execute_result"
        }
      ],
      "source": [
        "X = df_test.drop([\"mean_subject\"] , axis = 1)\n",
        "y = df_test[\"mean_subject\"]\n",
        "X\n",
        "y"
      ]
    },
    {
      "cell_type": "code",
      "execution_count": 142,
      "metadata": {
        "colab": {
          "base_uri": "https://localhost:8080/"
        },
        "id": "O-kXPgF0k2BO",
        "outputId": "d055983b-ada9-4635-941f-8c69800b6d5c"
      },
      "outputs": [
        {
          "data": {
            "text/plain": [
              "array([ 1,  2,  3,  4,  5,  6,  7,  8,  9, 10, 11, 12, 13, 14, 15, 16, 17,\n",
              "       18, 19, 20, 21, 22, 23, 24, 25, 26, 27, 28, 29, 30])"
            ]
          },
          "execution_count": 142,
          "metadata": {},
          "output_type": "execute_result"
        }
      ],
      "source": [
        "full_names = df_test[\"Full_Names\"].values\n",
        "class_df = df_test[\"claass\"].values\n",
        "Id  = df[\"Id\"].values\n",
        "#print( full_names , class_df , Id)\n",
        "df_test[\"Id\"].unique()"
      ]
    },
    {
      "cell_type": "code",
      "execution_count": 122,
      "metadata": {
        "id": "4umfcNBNm1p1"
      },
      "outputs": [],
      "source": [
        "from sklearn.preprocessing import LabelEncoder\n",
        "from sklearn.linear_model import LinearRegression \n",
        "from sklearn.tree import DecisionTreeRegressor\n",
        "from sklearn.metrics import mean_squared_error"
      ]
    },
    {
      "cell_type": "code",
      "execution_count": 161,
      "metadata": {
        "colab": {
          "base_uri": "https://localhost:8080/"
        },
        "id": "KIVtnf4wk26u",
        "outputId": "cd8f3e66-c450-48b0-b1bb-9abf08d8a647"
      },
      "outputs": [
        {
          "data": {
            "text/plain": [
              "0     3.9\n",
              "1     4.4\n",
              "2     3.3\n",
              "3     3.9\n",
              "4     4.7\n",
              "5     2.7\n",
              "6     3.9\n",
              "7     3.6\n",
              "8     4.7\n",
              "9     4.7\n",
              "10    4.6\n",
              "11    4.9\n",
              "12    3.7\n",
              "13    4.7\n",
              "14    4.8\n",
              "15    3.8\n",
              "16    3.7\n",
              "17    3.3\n",
              "18    3.7\n",
              "19    3.8\n",
              "20    4.6\n",
              "21    4.9\n",
              "22    3.6\n",
              "23    4.2\n",
              "24    1.5\n",
              "25    4.5\n",
              "26    2.5\n",
              "27    3.5\n",
              "28    3.9\n",
              "29    1.9\n",
              "Name: mean_subject, dtype: float64"
            ]
          },
          "execution_count": 161,
          "metadata": {},
          "output_type": "execute_result"
        }
      ],
      "source": [
        "coder = LabelEncoder()\n",
        "\n",
        "X[\"Full_Names\"] = coder.fit_transform(X[\"Full_Names\"])\n",
        "X = X.astype(float)\n",
        "y"
      ]
    },
    {
      "cell_type": "code",
      "execution_count": 115,
      "metadata": {
        "colab": {
          "base_uri": "https://localhost:8080/"
        },
        "id": "X_JWrvg4ly4U",
        "outputId": "af98e1ca-ed57-4d2a-f8db-1fb18106dad6"
      },
      "outputs": [
        {
          "data": {
            "text/plain": [
              "LinearRegression()"
            ]
          },
          "execution_count": 115,
          "metadata": {},
          "output_type": "execute_result"
        }
      ],
      "source": [
        "test_model = LinearRegression()\n",
        "test_model.fit(X , y.values)"
      ]
    },
    {
      "cell_type": "code",
      "execution_count": 116,
      "metadata": {
        "id": "jtlW9xTinqgV"
      },
      "outputs": [],
      "source": [
        "y_pred = test_model.predict(X)"
      ]
    },
    {
      "cell_type": "code",
      "execution_count": 120,
      "metadata": {
        "colab": {
          "base_uri": "https://localhost:8080/"
        },
        "id": "gjxUV_q3q1jE",
        "outputId": "df3a36cf-ee9c-4655-eca7-49c5c184be25"
      },
      "outputs": [
        {
          "name": "stdout",
          "output_type": "stream",
          "text": [
            "0.7649379800142004\n"
          ]
        }
      ],
      "source": [
        "print(np.sqrt(mean_squared_error(y_pred , y.values)))"
      ]
    },
    {
      "cell_type": "code",
      "execution_count": 128,
      "metadata": {
        "colab": {
          "base_uri": "https://localhost:8080/"
        },
        "id": "X5sKRdudq5lT",
        "outputId": "a2dae194-141e-4ac2-bcb0-b20b202b6354"
      },
      "outputs": [
        {
          "data": {
            "text/plain": [
              "DecisionTreeRegressor(random_state=5)"
            ]
          },
          "execution_count": 128,
          "metadata": {},
          "output_type": "execute_result"
        }
      ],
      "source": [
        "main_model =DecisionTreeRegressor(random_state = 5)\n",
        "main_model.fit(X , y.values)"
      ]
    },
    {
      "cell_type": "code",
      "execution_count": 129,
      "metadata": {
        "colab": {
          "base_uri": "https://localhost:8080/"
        },
        "id": "nzccAJizrR4j",
        "outputId": "e85e1ea4-5dc2-478e-d161-9905e60e1c76"
      },
      "outputs": [
        {
          "name": "stdout",
          "output_type": "stream",
          "text": [
            "0.0\n"
          ]
        }
      ],
      "source": [
        "y_pred = main_model.predict(X)\n",
        "print(mean_squared_error(y_pred , y.values))"
      ]
    },
    {
      "cell_type": "code",
      "execution_count": 131,
      "metadata": {
        "id": "I39wl474ruwc"
      },
      "outputs": [],
      "source": [
        "data = {\"model\" : main_model , \"coder\" : coder}\n",
        "with open(\"model2.pkl\" , \"wb\") as f:\n",
        "  pickle.dump(data , f)"
      ]
    },
    {
      "cell_type": "code",
      "execution_count": 132,
      "metadata": {
        "id": "xWgSbfJ9s3Mb"
      },
      "outputs": [],
      "source": [
        "with open(\"model2.pkl\" , \"rb\") as f:\n",
        "  load_model = pickle.load(f)"
      ]
    },
    {
      "cell_type": "code",
      "execution_count": 133,
      "metadata": {
        "colab": {
          "base_uri": "https://localhost:8080/"
        },
        "id": "-UZmCAOawca7",
        "outputId": "b4e56ae7-b628-41a7-e02a-6be2939459a6"
      },
      "outputs": [
        {
          "data": {
            "text/plain": [
              "DecisionTreeRegressor(random_state=5)"
            ]
          },
          "execution_count": 133,
          "metadata": {},
          "output_type": "execute_result"
        }
      ],
      "source": [
        "load_model[\"model\"]"
      ]
    },
    {
      "cell_type": "code",
      "execution_count": 162,
      "metadata": {
        "colab": {
          "base_uri": "https://localhost:8080/"
        },
        "id": "fP0EX5wzweR2",
        "outputId": "fb6d4996-bbc9-4aff-89b9-a412ed3003f1"
      },
      "outputs": [
        {
          "data": {
            "text/plain": [
              "array([3.9, 4.4, 3.3, 3.9, 4.7, 2.7, 3.9, 3.6, 4.7, 4.7, 4.6, 4.9, 3.7,\n",
              "       4.7, 4.8, 3.8, 3.7, 3.3, 3.7, 3.8, 4.6, 4.9, 3.6, 4.2, 1.5, 4.5,\n",
              "       2.5, 3.5, 3.9, 1.9])"
            ]
          },
          "execution_count": 162,
          "metadata": {},
          "output_type": "execute_result"
        }
      ],
      "source": [
        "# X = np.array([[1 , \"Anh Hung\" , 45078]])\n",
        "# X[: , 1] = LabelEncoder().fit_transform(X[: , 1])\n",
        "# X = X.astype(float)\n",
        "\n",
        "load_model[\"model\"].predict(X)"
      ]
    },
    {
      "cell_type": "markdown",
      "metadata": {
        "id": "nmvMiC-h3loI"
      },
      "source": [
        "## Plot about the data"
      ]
    },
    {
      "cell_type": "code",
      "execution_count": 164,
      "metadata": {
        "id": "Gb5gt3vd_2lA"
      },
      "outputs": [],
      "source": [
        "df_pl = df"
      ]
    },
    {
      "cell_type": "code",
      "execution_count": 188,
      "metadata": {
        "colab": {
          "base_uri": "https://localhost:8080/",
          "height": 560
        },
        "id": "1emSPBEs_312",
        "outputId": "f70e3a24-292a-4a06-ea1f-b47c8680aeea"
      },
      "outputs": [
        {
          "name": "stderr",
          "output_type": "stream",
          "text": [
            "WARNING:matplotlib.legend:No handles with labels found to put in legend.\n"
          ]
        },
        {
          "data": {
            "image/png": "[encoded data removed]",
            "text/plain": [
              "<Figure size 1440x1080 with 1 Axes>"
            ]
          },
          "metadata": {
            "needs_background": "light"
          },
          "output_type": "display_data"
        }
      ],
      "source": [
        "cols = df_pl.columns\n",
        "plt.subplots(figsize = (20, 15))\n",
        "plt.barh(df_pl[cols[1]].values , df_pl[\"mean_subject\"].sort_values().values , color = \"cyan\"   )\n",
        "plt.title(\"Mark average of one of student\")\n",
        "plt.xlabel(\"Full Name\")\n",
        "plt.ylabel(\"Mark\")\n",
        "plt.legend()\n",
        "plt.show()"
      ]
    },
    {
      "cell_type": "code",
      "execution_count": 197,
      "metadata": {
        "colab": {
          "base_uri": "https://localhost:8080/",
          "height": 560
        },
        "id": "xA1ozgJSAC5O",
        "outputId": "6f6d34eb-8f7b-41a5-b2b3-f154e3fac325"
      },
      "outputs": [
        {
          "name": "stderr",
          "output_type": "stream",
          "text": [
            "WARNING:matplotlib.legend:No handles with labels found to put in legend.\n"
          ]
        },
        {
          "data": {
            "image/png": "[encoded data removed]",
            "text/plain": [
              "<Figure size 1440x1080 with 1 Axes>"
            ]
          },
          "metadata": {
            "needs_background": "light"
          },
          "output_type": "display_data"
        }
      ],
      "source": [
        "cols = df_pl.columns\n",
        "plt.subplots(figsize = (20, 15))\n",
        "plt.plot(df_pl[\"mean_subject\"].sort_values().values , df_pl[cols[1]].values , \n",
        "         color = \"pink\" , marker = \"*\" , ms = 10 , mfc = \"y\"  )\n",
        "plt.title(\"Mark average of one of student\")\n",
        "plt.xlabel(\"Full Name\")\n",
        "plt.ylabel(\"Mark\")\n",
        "plt.legend()\n",
        "plt.show()"
      ]
    },
    {
      "cell_type": "code",
      "execution_count": 218,
      "metadata": {
        "colab": {
          "base_uri": "https://localhost:8080/",
          "height": 321
        },
        "id": "7X4fecrcD-LI",
        "outputId": "4be03238-3dd2-4e26-a66a-fc38c9f63762"
      },
      "outputs": [
        {
          "data": {
            "image/png": "[encoded data removed]",
            "text/plain": [
              "<Figure size 1152x432 with 2 Axes>"
            ]
          },
          "metadata": {
            "needs_background": "light"
          },
          "output_type": "display_data"
        }
      ],
      "source": [
        "x_num = len(df_pl[df_pl[\"mean_subject\"] <= 3.5])\n",
        "y_num = len(df_pl[df_pl[\"mean_subject\"] > 3.5])\n",
        "fig , (ax1 , ax2) = plt.subplots(1 , 2 , figsize = (16 , 6))\n",
        "ax1.hist(df_pl[df_pl[\"mean_subject\"] <= 3.5][\"mean_subject\"] , label=\"mean_subject <= 3.5\"  , color = \"hotpink\" , density = True , alpha = 0.7)\n",
        "ax1.set_xlabel(\"Mean_subject\")\n",
        "ax1.set_ylabel(\"Count_mean_subject\")\n",
        "ax1.legend()\n",
        "\n",
        "\n",
        "ax2.hist(df_pl[df_pl[\"mean_subject\"] > 3.5][\"mean_subject\"] , label=\"mean_subject > 3.5\"  , color = \"blue\" , density = True , alpha = 0.7)\n",
        "ax2.set_xlabel(\"Mean_subject\")\n",
        "ax2.set_ylabel(\"Count_mean_subject\")\n",
        "ax2.legend()\n",
        "\n",
        "plt.show()"
      ]
    },
    {
      "cell_type": "code",
      "execution_count": null,
      "metadata": {
        "id": "fqpjnzjyFU29"
      },
      "outputs": [],
      "source": []
    }
  ],
  "metadata": {
    "colab": {
      "provenance": []
    },
    "kernelspec": {
      "display_name": "Python 3",
      "language": "python",
      "name": "python3"
    },
    "language_info": {
      "name": "python",
      "version": "3.9.0 (default, Nov 15 2020, 08:30:55) [MSC v.1916 64 bit (AMD64)]"
    },
    "vscode": {
      "interpreter": {
        "hash": "b2aa780a7843c76ae1bc98583b5076bb92daa8f374dda25c53d5b9b14fcfc1d6"
      }
    }
  },
  "nbformat": 4,
  "nbformat_minor": 0
}
